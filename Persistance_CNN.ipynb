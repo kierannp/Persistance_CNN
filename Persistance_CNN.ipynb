{
 "cells": [
  {
   "cell_type": "code",
   "execution_count": 1,
   "metadata": {},
   "outputs": [
    {
     "name": "stdout",
     "output_type": "stream",
     "text": [
      "Rips(maxdim=1, thresh=inf, coeff=2, do_cocycles=False, n_perm = None, verbose=True)\n"
     ]
    }
   ],
   "source": [
    "import numpy as np\n",
    "import matplotlib.pyplot as plt\n",
    "import tensorflow as tf\n",
    "from tensorflow import keras\n",
    "import pandas as pd\n",
    "from Element_PI import VariancePersistv1\n",
    "import glob\n",
    "from sklearn.model_selection import train_test_split\n"
   ]
  },
  {
   "cell_type": "code",
   "execution_count": 2,
   "metadata": {},
   "outputs": [],
   "source": [
    "px = 32\n",
    "py = 32\n",
    "spread = 1      #varience or std, not sure\n",
    "axis_bound = 2.5  #angstroms\n",
    "samples = 500\n",
    "\n",
    "data_path = '../iMoDELS-supplements/data/raw-data/everything.csv'\n",
    "data = pd.read_csv(data_path, index_col=0)\n",
    "data = data.drop(['backbone'],axis=1)\n",
    "\n",
    "molecules = glob.glob('../terminal_group_screening/src/util/molecules/*.xyz')\n",
    "molecules = list(set(molecules))\n",
    "im_mols = {}\n",
    "for m in molecules:\n",
    "    mol_name = m.split('/')[-1].split('.')[0]\n",
    "    if 'ch3' in mol_name:\n",
    "        mol_name = mol_name.split('-')[0]\n",
    "        im_mols[mol_name] = VariancePersistv1(m, pixelx=px, pixely=py, myspread=spread, myspecs={\"maxBD\": axis_bound, \"minBD\":-.10}, showplot=False).reshape(px,py, 1)\n",
    "        im_mols[mol_name] = np.asarray(im_mols[mol_name]).astype('float32')\n",
    "\n",
    "def str_to_im(chem_name):\n",
    "    if chem_name == 'difluoromethyl' or chem_name == 'phenol' or chem_name == 'toluene':\n",
    "        return\n",
    "    else:\n",
    "        return im_mols[chem_name]\n",
    "        \n",
    "data.terminal_group_1 = data.terminal_group_1.apply(str_to_im)\n",
    "data.terminal_group_2 = data.terminal_group_2.apply(str_to_im)\n",
    "data.terminal_group_3 = data.terminal_group_3.apply(str_to_im)\n",
    "data = data.dropna()\n",
    "\n",
    "\n",
    "msk = np.random.rand(len(data)) < 0.8\n",
    "train, test = data[msk] , data[~msk]\n",
    "\n",
    "train_X, train_y = train, train['COF']\n",
    "train_X = train_X.drop(['COF'],axis=1)\n",
    "test_X, test_y = test, test['COF']"
   ]
  },
  {
   "cell_type": "code",
   "execution_count": 8,
   "metadata": {},
   "outputs": [
    {
     "name": "stdout",
     "output_type": "stream",
     "text": [
      "Epoch 1/5\n",
      "146/146 [==============================] - 8s 49ms/step - loss: 5.7084e-04 - accuracy: 0.0000e+00\n",
      "Epoch 2/5\n",
      "146/146 [==============================] - 7s 50ms/step - loss: 2.8846e-04 - accuracy: 0.0000e+00\n",
      "Epoch 3/5\n",
      "146/146 [==============================] - 7s 50ms/step - loss: 2.6501e-04 - accuracy: 0.0000e+00\n",
      "Epoch 4/5\n",
      "146/146 [==============================] - 7s 51ms/step - loss: 2.6199e-04 - accuracy: 0.0000e+00\n",
      "Epoch 5/5\n",
      "146/146 [==============================] - 8s 52ms/step - loss: 2.5528e-04 - accuracy: 0.0000e+00\n"
     ]
    },
    {
     "data": {
      "text/plain": [
       "<keras.callbacks.History at 0x152a294e0>"
      ]
     },
     "execution_count": 8,
     "metadata": {},
     "output_type": "execute_result"
    }
   ],
   "source": [
    "input_t1 = keras.Input(shape=(px, py, 1))\n",
    "x = keras.layers.Conv2D(16, 5)(input_t1)\n",
    "x = keras.layers.Conv2D(16, 4)(x)\n",
    "x = keras.layers.Conv2D(16, 3)(x)\n",
    "x = keras.layers.Dense(16)(x)\n",
    "out = keras.layers.Dense(1,activation='linear')(x)\n",
    "model = keras.Model(inputs = input_t1, outputs=out)\n",
    "model.compile(optimizer='rmsprop', loss='mse', metrics=['accuracy'])\n",
    "model.fit(np.array(train_X['terminal_group_1'].to_list()), np.array(train_y.to_list()), epochs=5, verbose=1)"
   ]
  },
  {
   "cell_type": "code",
   "execution_count": 5,
   "metadata": {},
   "outputs": [
    {
     "name": "stdout",
     "output_type": "stream",
     "text": [
      "Epoch 1/10\n",
      "148/148 [==============================] - 19s 120ms/step - loss: 3.3526 - accuracy: 0.0000e+00 - val_loss: 0.0161 - val_accuracy: 0.0000e+00\n",
      "Epoch 2/10\n",
      "148/148 [==============================] - 18s 125ms/step - loss: 0.0065 - accuracy: 0.0000e+00 - val_loss: 0.0043 - val_accuracy: 0.0000e+00\n",
      "Epoch 3/10\n",
      "148/148 [==============================] - 19s 125ms/step - loss: 0.0039 - accuracy: 0.0000e+00 - val_loss: 0.0027 - val_accuracy: 0.0000e+00\n",
      "Epoch 4/10\n",
      "148/148 [==============================] - 19s 126ms/step - loss: 0.0047 - accuracy: 0.0000e+00 - val_loss: 0.0471 - val_accuracy: 0.0000e+00\n",
      "Epoch 5/10\n",
      "148/148 [==============================] - 18s 124ms/step - loss: 0.0594 - accuracy: 0.0000e+00 - val_loss: 0.0116 - val_accuracy: 0.0000e+00\n",
      "Epoch 6/10\n",
      "148/148 [==============================] - 19s 128ms/step - loss: 0.0073 - accuracy: 0.0000e+00 - val_loss: 0.0057 - val_accuracy: 0.0000e+00\n",
      "Epoch 7/10\n",
      "148/148 [==============================] - 18s 125ms/step - loss: 0.0022 - accuracy: 0.0000e+00 - val_loss: 0.0013 - val_accuracy: 0.0000e+00\n",
      "Epoch 8/10\n",
      "148/148 [==============================] - 19s 127ms/step - loss: 8.8927e-04 - accuracy: 0.0000e+00 - val_loss: 0.0015 - val_accuracy: 0.0000e+00\n",
      "Epoch 9/10\n",
      "148/148 [==============================] - 19s 130ms/step - loss: 9.6710e-04 - accuracy: 0.0000e+00 - val_loss: 0.0012 - val_accuracy: 0.0000e+00\n",
      "Epoch 10/10\n",
      "148/148 [==============================] - 21s 145ms/step - loss: 0.0018 - accuracy: 0.0000e+00 - val_loss: 0.0012 - val_accuracy: 0.0000e+00\n"
     ]
    },
    {
     "data": {
      "text/plain": [
       "<keras.callbacks.History at 0x14da8fdf0>"
      ]
     },
     "execution_count": 5,
     "metadata": {},
     "output_type": "execute_result"
    }
   ],
   "source": [
    "input_t1 = keras.Input(shape=(px, py, 1))\n",
    "x = keras.layers.Conv2D(8, 5)(input_t1)\n",
    "x = keras.layers.Conv2D(8, 4)(x)\n",
    "x = keras.layers.Conv2D(8, 3)(x)\n",
    "x = keras.layers.Flatten()(x)\n",
    "model_x = keras.Model(inputs = input_t1, outputs=x)\n",
    "\n",
    "input_t2 = keras.Input(shape=(px, py, 1))\n",
    "y = keras.layers.Conv2D(8, 5)(input_t2)\n",
    "y = keras.layers.Conv2D(8, 4)(y)\n",
    "y = keras.layers.Conv2D(8, 3)(y)\n",
    "y = keras.layers.Flatten()(y)\n",
    "model_y = keras.Model(inputs = input_t2, outputs=y)\n",
    "\n",
    "input_t3 = keras.Input(shape=(px, py, 1))\n",
    "z = keras.layers.Conv2D(8, 5)(input_t3)\n",
    "z = keras.layers.Conv2D(8, 4)(z)\n",
    "z = keras.layers.Conv2D(8, 3)(z)\n",
    "z = keras.layers.Flatten()(z)\n",
    "model_z = keras.Model(inputs = input_t3, outputs=z)\n",
    "\n",
    "meta_dat = keras.Input(shape=(111,))\n",
    "m = keras.layers.Dense(128, activation ='relu')(meta_dat)\n",
    "m = keras.layers.Dense(128, activation ='relu')(m)\n",
    "model_m = keras.Model(inputs = meta_dat, outputs=m)\n",
    "\n",
    "combo = keras.layers.concatenate([model_x.output, model_y.output, model_z.output, model_m.output])\n",
    "\n",
    "out = keras.layers.Dense(256, activation='relu')(combo)\n",
    "out = keras.layers.Dense(1, activation='linear')(out)\n",
    "\n",
    "model = keras.Model(inputs=[input_t1, input_t2, input_t3, meta_dat], outputs=out)\n",
    "model.compile(optimizer='Adam', loss='mse', metrics=['accuracy'])\n",
    "model.fit(\n",
    "    x = [np.array(train_X['terminal_group_1'].to_list()),\n",
    "    np.array(train_X['terminal_group_2'].to_list()),\n",
    "    np.array(train_X['terminal_group_3'].to_list()),\n",
    "    np.array(train_X[train_X.columns[3:].to_list()])], \n",
    "    y = np.array(train_y.to_list()),\n",
    "    epochs=10,\n",
    "    validation_data=([np.array(test_X['terminal_group_1'].to_list()),\n",
    "    np.array(test_X['terminal_group_2'].to_list()),\n",
    "    np.array(test_X['terminal_group_3'].to_list()),\n",
    "    np.array(test_X[train_X.columns[3:].to_list()])], np.array(test_y.to_list())))"
   ]
  },
  {
   "cell_type": "code",
   "execution_count": 8,
   "metadata": {},
   "outputs": [
    {
     "data": {
      "text/plain": [
       "[<matplotlib.lines.Line2D at 0x14e134910>]"
      ]
     },
     "execution_count": 8,
     "metadata": {},
     "output_type": "execute_result"
    },
    {
     "data": {
      "image/png": "[encoded data removed]",
      "text/plain": [
       "<Figure size 432x288 with 1 Axes>"
      ]
     },
     "metadata": {
      "needs_background": "light"
     },
     "output_type": "display_data"
    }
   ],
   "source": [
    "test_pred = model([np.array(test_X['terminal_group_1'].to_list()),\n",
    "    np.array(test_X['terminal_group_2'].to_list()),\n",
    "    np.array(test_X['terminal_group_3'].to_list()),\n",
    "    np.array(test_X[train_X.columns[3:].to_list()])], np.array(test_y.to_list()))\n",
    "plt.plot(test_pred, test_y,'.')"
   ]
  }
 ],
 "metadata": {
  "interpreter": {
   "hash": "27bbf09093ebd1112430adf0ae9db1111460e77611ff2ddee2564279677ebc2e"
  },
  "kernelspec": {
   "display_name": "Python 3.8.12 ('tfm1')",
   "language": "python",
   "name": "python3"
  },
  "language_info": {
   "codemirror_mode": {
    "name": "ipython",
    "version": 3
   },
   "file_extension": ".py",
   "mimetype": "text/x-python",
   "name": "python",
   "nbconvert_exporter": "python",
   "pygments_lexer": "ipython3",
   "version": "3.10.2"
  },
  "orig_nbformat": 4
 },
 "nbformat": 4,
 "nbformat_minor": 2
}
